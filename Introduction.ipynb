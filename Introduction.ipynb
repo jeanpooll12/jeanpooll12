{
  "cells": [
    {
      "cell_type": "markdown",
      "metadata": {
        "id": "view-in-github",
        "colab_type": "text"
      },
      "source": [
        "<a href=\"https://colab.research.google.com/github/jeanpooll12/jeanpooll12/blob/main/Introduction.ipynb\" target=\"_parent\"><img src=\"https://colab.research.google.com/assets/colab-badge.svg\" alt=\"Open In Colab\"/></a>"
      ]
    },
    {
      "cell_type": "markdown",
      "metadata": {
        "id": "VZA-YfwKnBbc"
      },
      "source": [
        "# Introducción a Python\n",
        "## Fundamentos de Programación\n",
        "### Ingeniería Electrónica UPB Montería (202410)\n",
        "- **Docente:** *Miguel Ortiz*\n",
        "- __email:__ _miguel.ortizp@upb.edu.co_\n"
      ]
    },
    {
      "cell_type": "code",
      "execution_count": null,
      "metadata": {
        "id": "egjbI1I1msBR"
      },
      "outputs": [],
      "source": [
        "# Comentarios\n",
        "\n",
        "# Todo lo que aparezca después de un # se considera un comentario\n",
        "# Sirven para:\n",
        "# - Dar información (contexto)\n",
        "# - Ayuda futura / Documentar\n",
        "# - Hacer pruebas"
      ]
    },
    {
      "cell_type": "code",
      "execution_count": null,
      "metadata": {
        "id": "RI65-J3ZnmM1"
      },
      "outputs": [],
      "source": [
        "# Print\n",
        "\n",
        "print(\"Hello World!\")"
      ]
    },
    {
      "cell_type": "code",
      "execution_count": null,
      "metadata": {
        "id": "lH12QuatoC8Q"
      },
      "outputs": [],
      "source": [
        "# Variables String (Básico)\n",
        "\n",
        "name = \"jean\"\n",
        "lastname = \"noriga\"\n",
        "\n",
        "print(name, lastname)"
      ]
    },
    {
      "cell_type": "code",
      "execution_count": null,
      "metadata": {
        "id": "yWtEsxlioZpx"
      },
      "outputs": [],
      "source": [
        "# Type\n",
        "\n",
        "fullname = \"jean noriega\"\n",
        "print(type(fullname))"
      ]
    },
    {
      "cell_type": "code",
      "execution_count": null,
      "metadata": {
        "id": "BSNfzn5-osPm"
      },
      "outputs": [],
      "source": [
        "# Más variables\n",
        "\n",
        "n = 5\n",
        "r = 2.14\n",
        "soleado = True\n",
        "pet = \"Perro\"\n",
        "\n",
        "print(type(n))\n",
        "print(type(r))\n",
        "print(type(soleado))\n",
        "print(type(pet))"
      ]
    },
    {
      "cell_type": "code",
      "execution_count": null,
      "metadata": {
        "id": "_dxQ_8FAqewu"
      },
      "outputs": [],
      "source": [
        "a = 3\n",
        "b = -5\n",
        "c = a + b\n",
        "print(c)"
      ]
    },
    {
      "cell_type": "code",
      "execution_count": null,
      "metadata": {
        "id": "Eg40YRe1sDM-"
      },
      "outputs": [],
      "source": [
        "m = 3\n",
        "b = -2\n",
        "x = 5\n",
        "y = m *  x + b\n",
        "print(y)"
      ]
    },
    {
      "cell_type": "markdown",
      "source": [
        "## Markdown - Básico\n",
        "\n",
        "### Títulos\n",
        "\n",
        "Se colocan con `#`.\n",
        "\n",
        "### Estilo de letras\n",
        "\n",
        "Se colocan con `*` o `_` sencillos (para cursivas) o dobles (para negrita).\n",
        "\n",
        "### Code Snippet\n",
        "\n",
        "Utilizando el backtip (la tilde al revés):\n",
        "\n",
        "- La instrucción `print(name)` muestra el valor de la variable `name` en consola.\n",
        "\n",
        "Si es un bloque de código, se utilizan 3 backtip (al inicio y al final):\n",
        "\n",
        "```python\n",
        "a = 3\n",
        "b = 5\n",
        "c = a + b\n",
        "print(c)\n",
        "```\n",
        "\n",
        "### Salto de línea\n",
        "\n",
        "Utilice `<br>` o `\\` \\ <br/>\n",
        "Y 3 asteriscos (`***`) para la línea horizontal.\n",
        "\n",
        "***\n",
        "\n",
        "### Listas\n",
        "\n",
        "- Ordenadas: con números\n",
        "- Desordenadas: con `-` o `*`\n",
        "\n",
        "Ejemplo:\n",
        "- Leche\n",
        "- Huevo\n",
        "- Carnes\n",
        "  - Pescado\n",
        "  - Pollo\n",
        "\n",
        "1. Desconectar equipo\n",
        "2. Medir voltaje\n",
        "  1. En paralelo\n",
        "  2. En serie\n",
        "\n",
        "### Enlaces (links)\n",
        "\n",
        "Utilice `[texto](url)`\n",
        "\n",
        "[Ir a Google](https://www.google.com/)\n",
        "\n",
        "### LaTeX\n",
        "\n",
        "Utilice el signo `$`\n",
        "\n",
        "Ejemplo:\n",
        "\n",
        "La ecuación que relaciona el voltaje $V$ en una resistencia $R$ con su corriente $I$ se conoce como la Ley de Ohm:\n",
        "$$V =  RI$$"
      ],
      "metadata": {
        "id": "XuixBTQSvh3T"
      }
    },
    {
      "cell_type": "code",
      "execution_count": null,
      "metadata": {
        "id": "CJmomBKdvd9s"
      },
      "outputs": [],
      "source": [
        "# Continuación - Operaciones con números\n",
        "\n",
        "# Suma\n",
        "a = 3\n",
        "b = -4\n",
        "c = a + b\n",
        "print(a)\n",
        "\n",
        "# Resta\n",
        "d = 5\n",
        "e = 7\n",
        "f = d - e\n",
        "\n",
        "# Multiplicación\n",
        "a = b * c # reasignación de variables\n",
        "print(a)\n",
        "\n",
        "# División\n",
        "a = b / a\n",
        "print(a)\n",
        "\n",
        "# Módulo\n",
        "a = 6\n",
        "a = a % 2\n",
        "print(a)\n",
        "\n",
        "# Potencia\n",
        "a = 8\n",
        "print(a ** 2)\n",
        "print(a ** 3)\n",
        "print(a ** (1/2))\n",
        "print(a ** (1/3))"
      ]
    },
    {
      "cell_type": "code",
      "source": [
        "# Concatenar\n",
        "\n",
        "firstname = \"jean\"\n",
        "lastname = \"noriega\"\n",
        "fullname = lastname + \", \" + firstname\n",
        "print(fullname)"
      ],
      "metadata": {
        "id": "aCiXhFQz804k"
      },
      "execution_count": null,
      "outputs": []
    },
    {
      "cell_type": "code",
      "source": [
        "# +=\n",
        "\n",
        "a = 5\n",
        "a += 10\n",
        "print(a)\n",
        "a -= 8\n",
        "a *= 3\n",
        "a /= 2\n",
        "a **= 2\n",
        "print(a)"
      ],
      "metadata": {
        "id": "m2wFI7Wa-PFG"
      },
      "execution_count": null,
      "outputs": []
    },
    {
      "cell_type": "code",
      "source": [
        "# Multiline String\n",
        "\n",
        "my_text = \"\"\"\n",
        "Te amo como se aman ciertas cosas oscuras,\n",
        "secretamente, entre la sombra y el alma.\"\n",
        "\"\"\"\n",
        "\n",
        "print(my_text)"
      ],
      "metadata": {
        "id": "VNy0uw5P-2a7"
      },
      "execution_count": null,
      "outputs": []
    },
    {
      "cell_type": "markdown",
      "source": [
        "#Expreciones booleanas\n",
        "Son aqquellas que se avaluan como True o False. El cumputador no entiende las opiniones."
      ],
      "metadata": {
        "id": "DRZY-MjxJJWq"
      }
    },
    {
      "cell_type": "code",
      "source": [
        "#Expresiones booleanas\n",
        "a = 3\n",
        "b = 5\n",
        "print(a == b)\n",
        "print(a != b)\n",
        "print(a > b)\n",
        "print(a < b)\n",
        "print(a >= b)\n",
        "print(a <= b)\n"
      ],
      "metadata": {
        "id": "Rqi8Akoh_rQ5"
      },
      "execution_count": null,
      "outputs": []
    },
    {
      "cell_type": "markdown",
      "source": [
        "##Operaciones booleanas\n",
        "\n",
        "se utiliza para realizar operaciones entre expresiones booleanas. Son `and`, `or`, `not`.\n",
        "\n",
        "---\n",
        "\n"
      ],
      "metadata": {
        "id": "POhBDV7FKajD"
      }
    },
    {
      "cell_type": "code",
      "source": [
        "#operaciones booleanas\n",
        "\n",
        "a = 2\n",
        "b = 3\n",
        "#not\n",
        "d = not a==b\n",
        "c = not d\n",
        "print(d,c)\n",
        "\n",
        "#and\n",
        "e = d and not c\n",
        "print(d,c,e)\n",
        "\n",
        "#or\n",
        "e = d or c\n",
        "print(e)"
      ],
      "metadata": {
        "id": "zpqawsnqK5MZ"
      },
      "execution_count": null,
      "outputs": []
    },
    {
      "cell_type": "markdown",
      "source": [
        "##Inputs\n",
        "son las entradas de usuario por consola"
      ],
      "metadata": {
        "id": "VCeXLleHP45i"
      }
    },
    {
      "cell_type": "code",
      "source": [
        "firstname = input(\"nombre\")\n",
        "lastname = input(\"apellido\")\n",
        "fullname = firstname + \" \" + lastname\n",
        "print(\"hola,\", fullname, \"¡bienvenido a la universidad pontificia bolivariana!\")"
      ],
      "metadata": {
        "id": "BqcFzfsWQClJ"
      },
      "execution_count": null,
      "outputs": []
    },
    {
      "cell_type": "code",
      "source": [
        "#suma de dos numeros\n",
        "\n",
        "a = float(input(\"ingrese el primer numero\"))\n",
        "b = float(input(\"ingrese el segundo numero\"))\n",
        "c = a + b\n",
        "print(f\"la suma de {a} y {b} es {c}.\")\n"
      ],
      "metadata": {
        "id": "3-ZKo6DJXnC4"
      },
      "execution_count": null,
      "outputs": []
    },
    {
      "cell_type": "code",
      "source": [
        "# Sales Prediction\n",
        "# A company has determined that its annual profit is typically 23 percent of total\n",
        "# sales. Design a program that asks the user to enter the projected amount of total\n",
        "# sales, and then displays the profit that will be made from that amount.\n",
        "# Hint: Use the value 0.23 to represent 23 percent.\n",
        "\n",
        "# Program Sales_Prediction\n",
        "# // Programa para la calcular las ganancias totales a partir de las ventas\n",
        "# Start\n",
        "\n",
        "# \tDeclare Real sales, profit\n",
        "# \tConstant Real margin = 0.23\n",
        "\n",
        "# \tDisplay \"Ingresa el monto total de las ventas: \"\n",
        "# \tInput sales\n",
        "\n",
        "# \tSet profit = sales * margin\n",
        "\n",
        "# \tDisplay \"Las utilidades fueron de \", profit\n",
        "\n",
        "# Stop"
      ],
      "metadata": {
        "id": "1gQy4rjIn1gJ"
      },
      "execution_count": null,
      "outputs": []
    },
    {
      "cell_type": "code",
      "source": [
        "margin = 0.23\n",
        "sales = float(input(\"ingrese el monto total de las ventas\"))\n",
        "profit = sales * margin\n",
        "print(f\"las utilidades fueron de {profit}\")"
      ],
      "metadata": {
        "id": "i7-XfaGpaFgA"
      },
      "execution_count": null,
      "outputs": []
    },
    {
      "cell_type": "code",
      "source": [
        "TOTAL_ACRE = 43500\n",
        "squere_feet = float(input(\"inserte el numero total de pies cuadrados en el tracto\"))\n",
        "total = squere_feet / TOTAL_ACRE\n",
        "print(f\"el total de pies cuadrados: {total}\")"
      ],
      "metadata": {
        "id": "3ehTOnTyn2vR"
      },
      "execution_count": null,
      "outputs": []
    },
    {
      "cell_type": "markdown",
      "source": [
        "\n",
        "`\\ salto de linea pythom `"
      ],
      "metadata": {
        "id": "RVZZtNe1vNjB"
      }
    },
    {
      "cell_type": "code",
      "source": [
        "TAX = 6 / 100\n",
        "item_1 = float(input(\"ingrese el valor del item 1: $\"))\n",
        "item_2 = float(input(\"ingrese el valor del item 2: $\"))\n",
        "item_3 = float(input(\"ingrese el valor del item 3: $\"))\n",
        "item_4 = float(input(\"ingrese el valor del item 4: $\"))\n",
        "item_5 = float(input(\"ingrese el valor del item 5: $\"))\n",
        "subtotal = item_1 + item_2 + item_3 + item_4 + item_5\n",
        "sales_tax = subtotal * TAX\n",
        "amount = subtotal + sales_tax\n",
        "print(\"-\" * 25)\n",
        "print(f\"subtotal: $ {subtotal} \\nsales tax: ${sales_tax} \\ntotal: $ {amount}\")"
      ],
      "metadata": {
        "id": "LcPgVgW2rlWx"
      },
      "execution_count": null,
      "outputs": []
    },
    {
      "cell_type": "code",
      "source": [
        "SPEED = 60\n",
        "TIME_1 = 5\n",
        "TIME_2 = 8\n",
        "TIME_3 = 15\n",
        "distance_1 = TIME_1 * SPEED\n",
        "distance_2 = TIME_2 * SPEED\n",
        "distance_3 = TIME_3 * SPEED\n",
        "print(f\"la distancia recorrida a {SPEED} millas/hora son\")\n",
        "print(f\"- {distance_1} millas en {TIME_1} horas.\")\n",
        "print(f\"- {distance_2} millas en {TIME_2} horas.\")\n",
        "print(f\"- {distance_3} millas en {TIME_3} horas.\")"
      ],
      "metadata": {
        "id": "ZYF124xmtPUi"
      },
      "execution_count": null,
      "outputs": []
    }
  ],
  "metadata": {
    "colab": {
      "private_outputs": true,
      "provenance": [],
      "include_colab_link": true
    },
    "kernelspec": {
      "display_name": "Python 3 (ipykernel)",
      "language": "python",
      "name": "python3"
    },
    "language_info": {
      "codemirror_mode": {
        "name": "ipython",
        "version": 3
      },
      "file_extension": ".py",
      "mimetype": "text/x-python",
      "name": "python",
      "nbconvert_exporter": "python",
      "pygments_lexer": "ipython3",
      "version": "3.12.1"
    }
  },
  "nbformat": 4,
  "nbformat_minor": 0
}