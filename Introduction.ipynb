{
  "cells": [
    {
      "cell_type": "markdown",
      "metadata": {
        "id": "view-in-github",
        "colab_type": "text"
      },
      "source": [
        "<a href=\"https://colab.research.google.com/github/jeanpooll12/jeanpooll12/blob/perrooo/Introduction.ipynb\" target=\"_parent\"><img src=\"https://colab.research.google.com/assets/colab-badge.svg\" alt=\"Open In Colab\"/></a>"
      ]
    },
    {
      "cell_type": "markdown",
      "metadata": {
        "id": "VZA-YfwKnBbc"
      },
      "source": [
        "# Introducción a Python\n",
        "## Fundamentos de Programación\n",
        "### Ingeniería Electrónica UPB Montería (202410)\n",
        "- Docente: Miguel Ortiz\n",
        "- email: miguel.ortizp@upb.edu.co\n"
      ]
    },
    {
      "cell_type": "code",
      "execution_count": null,
      "metadata": {
        "id": "egjbI1I1msBR"
      },
      "outputs": [],
      "source": [
        "# Comentarios\n",
        "\n",
        "# Todo lo que aparezca después de un # se considera un comentario\n",
        "# Sirven para:\n",
        "# - Dar información (contexto)\n",
        "# - Ayuda futura / Documentar\n",
        "# - Hacer pruebas"
      ]
    },
    {
      "cell_type": "code",
      "execution_count": null,
      "metadata": {
        "id": "RI65-J3ZnmM1"
      },
      "outputs": [],
      "source": [
        "# Print\n",
        "\n",
        "print(\"Hello World!\")"
      ]
    },
    {
      "cell_type": "code",
      "execution_count": null,
      "metadata": {
        "id": "lH12QuatoC8Q"
      },
      "outputs": [],
      "source": [
        "# Variables String (Básico)\n",
        "\n",
        "name = \"Miguel\"\n",
        "lastname = \"Ortiz\"\n",
        "\n",
        "print(name, lastname)"
      ]
    },
    {
      "cell_type": "code",
      "execution_count": null,
      "metadata": {
        "id": "yWtEsxlioZpx"
      },
      "outputs": [],
      "source": [
        "# Type\n",
        "\n",
        "fullname = \"Miguel Ortiz\"\n",
        "print(type(fullname))"
      ]
    },
    {
      "cell_type": "code",
      "execution_count": null,
      "metadata": {
        "id": "BSNfzn5-osPm"
      },
      "outputs": [],
      "source": [
        "# Más variables\n",
        "\n",
        "n = 5\n",
        "r = 2.14\n",
        "soleado = True\n",
        "pet = \"Perro\"\n",
        "\n",
        "print(type(n))\n",
        "print(type(r))\n",
        "print(type(soleado))\n",
        "print(type(pet))"
      ]
    },
    {
      "cell_type": "code",
      "execution_count": null,
      "metadata": {
        "id": "_dxQ_8FAqewu"
      },
      "outputs": [],
      "source": [
        "a = 3\n",
        "b = -5\n",
        "c = a + b\n",
        "print(c)"
      ]
    },
    {
      "cell_type": "code",
      "execution_count": null,
      "metadata": {
        "id": "Eg40YRe1sDM-"
      },
      "outputs": [],
      "source": [
        "m = 3\n",
        "b = -2\n",
        "x = 5\n",
        "y = m *  x + b\n",
        "print(y)"
      ]
    },
    {
      "cell_type": "markdown",
      "source": [
        "## titulos\n",
        "\n",
        "se colocan: \" # \"\n",
        "######estilo de letras\n",
        "\n",
        "se colocan * o _ sencilla (para cursivas)\n",
        "**ejemplo**\n",
        "\n",
        "o dobles (para negrillas)\n",
        "_ejemplo_\n",
        "\n",
        "para sombrear (`hello word`)`perrooo`\n",
        "\n",
        "las ``` el blackflip\n",
        "bloque de codigo se utiliza 3 blackflip (al inicio y al final)\n",
        "\n",
        "```pythom\n",
        "a = 3\n",
        "b = -5\n",
        "c = a + b\n",
        "print(c)\n",
        "```\n",
        "###salto de linea\n",
        "utilice `<br>` o\n",
        "\n",
        "###listas\n",
        "- desordenadas: con - o *\n",
        "- ordenadas con numero\n",
        "\n",
        "ejemplo\n",
        "- leche\n",
        "- huevo\n",
        "- carne\n",
        " - pollo\n",
        " - pescado\n",
        " - cerdo\n",
        "\n",
        "###enlaces (links)\n",
        "utilice `[texto] (url)`\n",
        "\n",
        "(https://www.google.com/search?q=pendejo&rlz=1C1CHZN_enCO1062CO1062&oq=pendejo&gs_lcrp=EgZjaHJvbWUyBggAEEUYOTIHCAEQABiABNIBCDI3NDNqMGo3qAIAsAIA&sourceid=chrome&ie=UTF-8)\n",
        "\n",
        "###latex\n",
        "utilice el signo `$`\n",
        "\n",
        "ejemplo\n",
        "la ecuacion que relaciona los voltajes $V$ en una resistencia $R$ con su corriente $I$ se conoce la ley de ohm $$V=RI$$\n",
        "\n"
      ],
      "metadata": {
        "id": "lbJIWRNe0UTc"
      }
    },
    {
      "cell_type": "code",
      "source": [
        "#continuacion - operaciones con numeros\n",
        "\n",
        "#suma\n",
        "a = 3\n",
        "b = -4\n",
        "c = a + b\n",
        "print(a)\n",
        "\n",
        "#resta\n",
        "d = 5\n",
        "e = 7\n",
        "f = d - e\n",
        "print(f)\n",
        "\n",
        "#multiplicacion\n",
        "a = b * c #reasignacion de variables\n",
        "print(a)\n",
        "\n",
        "#division\n",
        "a = b / a\n",
        "print(a)\n",
        "\n",
        "#modulo"
      ],
      "metadata": {
        "id": "fpaEVRH09bXz"
      },
      "execution_count": null,
      "outputs": []
    },
    {
      "cell_type": "code",
      "source": [
        "# concatenar\n",
        "firstname = \"jean\"\n",
        "lastname = \"noriega\"\n",
        "fullname = lastname + \", \" + firstname\n",
        "print(fullname)"
      ],
      "metadata": {
        "id": "wJYE3bfU-0aL"
      },
      "execution_count": null,
      "outputs": []
    },
    {
      "cell_type": "code",
      "source": [
        "# +=\n",
        "a = 5\n",
        "a += 10\n",
        "print(a)\n",
        "a -= 8\n",
        "a *= 3\n",
        "a /= 2\n",
        "a **= 2\n",
        "print(a)"
      ],
      "metadata": {
        "id": "v2d5an2p_apT"
      },
      "execution_count": null,
      "outputs": []
    },
    {
      "cell_type": "code",
      "source": [
        "# multilane string\n",
        "my_text= \"\"\"Podrá nublarse el sol eternamente;\n",
        "Podrá secarse en un instante el mar;\n",
        "Podrá romperse el eje de la tierra\n",
        "Como un débil cristal.\n",
        "\n",
        "¡Todo sucederá! Podrá la muerte\n",
        "Cubrirme con su fúnebre crespón;\n",
        "Pero jamás en mí podrá apagarse\n",
        "La llama de tu amor.\"\"\"\n",
        "print(my_text)"
      ],
      "metadata": {
        "id": "a77WYZqdA5pV"
      },
      "execution_count": null,
      "outputs": []
    }
  ],
  "metadata": {
    "colab": {
      "private_outputs": true,
      "provenance": [],
      "include_colab_link": true
    },
    "kernelspec": {
      "display_name": "Python 3 (ipykernel)",
      "language": "python",
      "name": "python3"
    },
    "language_info": {
      "codemirror_mode": {
        "name": "ipython",
        "version": 3
      },
      "file_extension": ".py",
      "mimetype": "text/x-python",
      "name": "python",
      "nbconvert_exporter": "python",
      "pygments_lexer": "ipython3",
      "version": "3.12.1"
    }
  },
  "nbformat": 4,
  "nbformat_minor": 0
}